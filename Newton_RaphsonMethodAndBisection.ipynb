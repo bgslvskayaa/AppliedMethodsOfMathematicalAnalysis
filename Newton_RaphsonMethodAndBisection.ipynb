{
  "nbformat": 4,
  "nbformat_minor": 0,
  "metadata": {
    "colab": {
      "provenance": []
    },
    "kernelspec": {
      "name": "python3",
      "display_name": "Python 3"
    },
    "language_info": {
      "name": "python"
    }
  },
  "cells": [
    {
      "cell_type": "markdown",
      "source": [
        "# Метод Ньютона-Рафсона\n",
        "\n",
        "Есть нелинейные функции многих переменных. Нужно аппроксимировать их линейной зависимостью с помощью частных производных. Тогда на каждом шаге решается полученная система линейных уравнений.\n",
        "Получается последовательное приближение к истинному решению уравнения f(x)=0, которые вычисляются с помощью производной от f(x).\n",
        "\n",
        "\n",
        "\n",
        "\n",
        "Таким образом:\n",
        "\n",
        "1) x0 – нулевая итерация\n",
        "\n",
        "2)В этой точке находим производную f'(x0)\n",
        "\n",
        "3)С учетом разложения Тейлора, f(x) заменяется в окрестности точки касательной – прямой линией f(x0)+f'(x0)(x-x0)\n",
        "\n",
        "4) Находим точку, в которой прямая пересекает ось Х\n",
        "\n",
        "5) Эта точка принимается за новую итерацию, и цикл повторяется: строится касательная, точка ее пересечения с осью и т.д., пока корень не будет найден с нужной точностью"
      ],
      "metadata": {
        "id": "VOHSWgMMRdMw"
      }
    },
    {
      "cell_type": "markdown",
      "source": [
        "![img-4xT3hS.png](data:image/png;base64,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)"
      ],
      "metadata": {
        "id": "vcAM9zf-fNoU"
      }
    },
    {
      "cell_type": "code",
      "source": [
        "def gaussPivot(a,b,tol=1.0e-12):\n",
        "    n = len(b)\n",
        "\n",
        "  # Set up scale factors\n",
        "    s = np.zeros(n)\n",
        "    for i in range(n):\n",
        "        s[i] = max(abs(a[i,:]))\n",
        "\n",
        "    for k in range(0,n-1):\n",
        "\n",
        "      # Row interchange, if needed\n",
        "        p = int(np.argmax(abs(a[k:n,k])/s[k:n])) + k\n",
        "        if abs(a[p,k]) < tol: np.error.err('Matrix is singular')\n",
        "        if p != k:\n",
        "            np.swap.swapRows(b,k,p)\n",
        "            np.swap.swapRows(s,k,p)\n",
        "            np.swap.swapRows(a,k,p)\n",
        "\n",
        "      # Elimination\n",
        "        for i in range(k+1,n):\n",
        "            if a[i,k] != 0.0:\n",
        "                lam = a[i,k]/a[k,k]\n",
        "                a[i,k+1:n] = a [i,k+1:n] - lam*a[k,k+1:n]\n",
        "                b[i] = b[i] - lam*b[k]\n",
        "    if abs(a[n-1,n-1]) < tol: np.error.err('Matrix is singular')\n",
        "\n",
        "  # Back substitution\n",
        "    for k in range(n-1,-1,-1):\n",
        "        b[k] = (b[k] - np.dot(a[k,k+1:n],b[k+1:n]))/a[k,k]\n",
        "    return b"
      ],
      "metadata": {
        "id": "RLaUROZeZxbm"
      },
      "execution_count": null,
      "outputs": []
    },
    {
      "cell_type": "code",
      "source": [
        "import numpy as np\n",
        "import math\n",
        "def newtonRaphson2(f,x,tol=1.0e-9):\n",
        "\n",
        "    def jacobian(f,x):\n",
        "        h = 1.0e-4\n",
        "        n = len(x)\n",
        "        jac = np.zeros((n,n))\n",
        "        f0 = f(x)\n",
        "        for i in range(n):\n",
        "            temp = x[i]\n",
        "            x[i] = temp + h\n",
        "            f1 = f(x)\n",
        "            x[i] = temp\n",
        "            jac[:,i] = (f1 - f0)/h\n",
        "        return jac,f0\n",
        "\n",
        "    for i in range(30):\n",
        "        jac,f0 = jacobian(f,x)\n",
        "        if math.sqrt(np.dot(f0,f0)/len(x)) < tol:\n",
        "            return x\n",
        "        dx = gaussPivot(jac,-f0)\n",
        "        x = x + dx\n",
        "        if math.sqrt(np.dot(dx,dx)) < tol*max(max(abs(x)),1.0):\n",
        "            return x\n",
        "    print('Too many iterations')"
      ],
      "metadata": {
        "id": "iibG6d7RZ4uw"
      },
      "execution_count": null,
      "outputs": []
    },
    {
      "cell_type": "markdown",
      "source": [
        "**12.** The equations\n",
        "\n",
        "$$\n",
        "\\sin x + 3 \\cos x − 2 = 0 \\\\\n",
        "\\cos x − \\sin y + 0.2 = 0\n",
        "$$\n",
        "\n",
        "have a solution in the vicinity of the point $(1, 1)$. Use the Newton-Raphson\n",
        "method to refine the solution."
      ],
      "metadata": {
        "id": "izCvcHjRaDmT"
      }
    },
    {
      "cell_type": "code",
      "source": [
        "import numpy as np\n",
        "import math\n",
        "\n",
        "def f(x):\n",
        "    f = np.zeros(len(x))\n",
        "    f[0] = math.sin(x[0]) + 3.0*math.cos(x[0]) - 2.0\n",
        "    f[1] = math.cos(x[0]) - math.sin(x[1]) - 0.2\n",
        "    return f\n",
        "x = np.array([1.0, 1.0])\n",
        "print(newtonRaphson2(f,x))\n",
        "#input(\"\\nPress return to exit\")"
      ],
      "metadata": {
        "colab": {
          "base_uri": "https://localhost:8080/"
        },
        "id": "xnPjHwLmZ9qY",
        "outputId": "a6374bfe-f5b6-4b09-ce18-45da40723d4d"
      },
      "execution_count": null,
      "outputs": [
        {
          "output_type": "stream",
          "name": "stdout",
          "text": [
            "[1.20782768 0.1556791 ]\n"
          ]
        }
      ]
    },
    {
      "cell_type": "markdown",
      "source": [
        "\n",
        "\n",
        "---\n",
        "\n"
      ],
      "metadata": {
        "id": "oDV4Nlqfy2nL"
      }
    },
    {
      "cell_type": "markdown",
      "source": [
        "# Метод бисекции\n",
        "\n",
        "**Теорема о промежуточном значении (Теорема Больцано — Коши).**\n",
        "\n",
        "Если непрерывная функция, определённая на вещественном промежутке, принимает два значения, то она принимает и любое значение между ними.\n",
        "\n",
        "\n",
        "*Следствие.* Если функция непрерывна на отрезке и на его концах принимает значения разных знаков, то на этом отрезке существует хотя бы одна точка, в которой функция обращается в нуль."
      ],
      "metadata": {
        "id": "lsb76bdpjOPT"
      }
    },
    {
      "cell_type": "markdown",
      "source": [
        "![nuli-neprerivnoj-funkcii.svg](data:image/svg+xml;base64,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)"
      ],
      "metadata": {
        "id": "aT0m8-W40DXs"
      }
    },
    {
      "cell_type": "markdown",
      "source": [
        "Метод бисекции использует эту теорему о промежуточных значениях для поиска корней. Итерация деления отрезка пополам c учетом теоремы о системе вложенных отрезков позволять найти корень уравнения с значением, меньшим заданного значения error.  "
      ],
      "metadata": {
        "id": "-qD-PBVf0G5P"
      }
    },
    {
      "cell_type": "markdown",
      "source": [
        "**Теорема о системе вложенных отрезков**\n",
        "\n",
        "Для всякой системы вложенных отрезков\n",
        "\n",
        "[$a_1$, $b_1$]⊃[$a_2$, $b_2$]⊃...⊃[$a_n$, $b_n$]\n",
        "\n",
        "существует хотя бы одна точка\n",
        "c\n",
        ", принадлежащая всем отрезкам данной системы.\n",
        "\n",
        "Если, кроме того, длина отрезков системы стремится к нулю:\n",
        "\n",
        "$lim_n→∞$($b_n$ - $a_n$) = 0\n",
        "\n",
        "то\n",
        "c\n",
        " — единственная общая точка всех отрезков данной системы.\n",
        "\n"
      ],
      "metadata": {
        "id": "cx12aho502SA"
      }
    },
    {
      "cell_type": "markdown",
      "source": [
        "![lemma-o-vlozhennyh-otrezkah.png](data:image/png;base64,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)"
      ],
      "metadata": {
        "id": "DLQHdF6p4cch"
      }
    },
    {
      "cell_type": "markdown",
      "source": [
        "Пусть наша функция f(х), действительно, непрерывна, промежуток [a,b] вещественный, a<b. Тогда это функция соответствует условиям теоремы о промежуточных значениях.\n",
        "\n",
        "Если значения функции на концах заданного промежутка разного знака, то, согласно *следствию* из теоремы о промежуточном значении, функция принимает все значения между каким-то отрицательным и положительным числом, то есть функция принимает значение 0 в какой-то точке из заданного промежутка.\n",
        "\n",
        "Теперь пусть $с = \\frac{b + a}{2}$, середина отрезка [a,b]. Если f(c)=0 или достигнуто значение c ошибкой, меньше заданной допустимой ошибки, тогда c – это и есть корень.\n",
        "\n",
        "Если же $f(c) \\neq 0$, давайте проанализируем сложившуюся картину. Мы разделили исходный промежуток [a,b] на два равных отрезка точкой с, являющейся его серединой, причем значение функции в точке с не равно нулю. Тогда, получается, что один из этих равных по длине отрезков содержит точку $x_i$:  f($x_i$)=0. Это утверждение следует из теоремы о промежуточном значении для функции f(x) на промежутке [a,b]. Выберем среди этих двух отрезков отрезок с разными знаками значений функции на концах и снова применим эту же теорему. Так будем делать пока значение функции в точке $c_n$ не будет равно нулю с ошибкой, меньшей заданной."
      ],
      "metadata": {
        "id": "QEBTgaRX4O8b"
      }
    },
    {
      "cell_type": "markdown",
      "source": [
        "![110.png](data:image/png;base64,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)"
      ],
      "metadata": {
        "id": "s1oTNHN-jFAa"
      }
    },
    {
      "cell_type": "markdown",
      "source": [
        "<font  size=\"3\">**4.** Write a function `my_bisection(f, a, b, tol)`, that returns $[R, E]$, where $f$ is a function object, $a$ and $b$ are scalars such that $a < b$, and $tol$ is a strictly positive scalar value. The function should return an array, $R$, where $R[i]$ is the estimation of the root of $f$ defined by $(a + b)/2$ for the $i$-th iteration of the bisection method. Remember to include the initial estimate. The function should also return an array, $E$, where $E[i]$ is the value of $| f(R[i]) |$ for the $i$-th iteration of the bisection method. The function should terminate when $E(i) < tol$. You may assume that ${\\text{sign}}(f(a)) \\neq {\\text{sign}}(f(b))$."
      ],
      "metadata": {
        "id": "43WpftBtyoDZ"
      }
    },
    {
      "cell_type": "code",
      "source": [
        "def bisection_method(func, a, b, error_accept):\n",
        "\n",
        "  def f(x):\n",
        "    f = eval(func)\n",
        "    return f\n",
        "\n",
        "  error = abs(b-a)\n",
        "  R = []\n",
        "  E = []\n",
        "\n",
        "  while error > error_accept:\n",
        "    c = (b+a)/2\n",
        "\n",
        "    if f(a)*f(b)>=0:\n",
        "      print(\"Нет корней на этом промежутке\")\n",
        "      quit()\n",
        "\n",
        "    elif f(c)*f(a)<0:\n",
        "      b=c\n",
        "      error = abs(b-a)\n",
        "      R.append(error)\n",
        "      E.append(f(c))\n",
        "\n",
        "    elif f(c)*f(b)<0:\n",
        "      a=c\n",
        "      error = abs(b-a)\n",
        "      R.append(error)\n",
        "      E.append(f(c))\n",
        "\n",
        "    else:\n",
        "      print(\"Ошибка\")\n",
        "      quit()\n",
        "\n",
        "\n",
        "  print(f\"Error = {error}\")\n",
        "  print(f\"Нижняя граница = {a}, \\nверхняя граница = {b}, \\nR = {R}, \\nE = {E}\")\n",
        "\n",
        "bisection_method(\"x**2 - 2\", 0, 2, 0.01)"
      ],
      "metadata": {
        "colab": {
          "base_uri": "https://localhost:8080/"
        },
        "id": "F_mxB2r9jRr7",
        "outputId": "1527b41d-e2cf-4617-9984-c2a09ce32664"
      },
      "execution_count": null,
      "outputs": [
        {
          "output_type": "stream",
          "name": "stdout",
          "text": [
            "Error = 0.0078125\n",
            "Нижняя граница = 1.4140625, \n",
            "верхняя граница = 1.421875, \n",
            "R = [1.0, 0.5, 0.25, 0.125, 0.0625, 0.03125, 0.015625, 0.0078125], \n",
            "E = [-1.0, 0.25, -0.4375, -0.109375, 0.06640625, -0.0224609375, 0.021728515625, -0.00042724609375]\n"
          ]
        }
      ]
    }
  ]
}
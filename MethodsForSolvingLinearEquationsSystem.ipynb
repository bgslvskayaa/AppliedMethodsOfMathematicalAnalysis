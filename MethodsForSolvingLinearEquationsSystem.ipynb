{
  "nbformat": 4,
  "nbformat_minor": 0,
  "metadata": {
    "colab": {
      "provenance": []
    },
    "kernelspec": {
      "name": "python3",
      "display_name": "Python 3"
    },
    "language_info": {
      "name": "python"
    }
  },
  "cells": [
    {
      "cell_type": "markdown",
      "source": [
        "# ЛА прямые методы решения СЛАУ"
      ],
      "metadata": {
        "id": "4LBDImjaf9qa"
      }
    },
    {
      "cell_type": "markdown",
      "source": [
        "Пусть задана система линейных алгебраических уравнений, которую необходимо решить (найти такие значения хi, которые обращают каждое уравнение системы в равенство).\n",
        "\n",
        "Мы знаем, что система линейных алгебраических уравнений может:\n",
        "\n",
        "1) Не иметь решений (быть несовместной)\n",
        "\n",
        "2) Иметь бесконечно много решений\n",
        "\n",
        "3) Иметь единственное решение\n",
        "\n",
        "Правило Крамера и матричный метод непригодны в тех случаях, когда система имеет бесконечно много решений или несовместна.\n",
        "\n",
        "**Метод Гаусса** – гораздо более мощный и универсальный инструмент для нахождения решения любой системы линейных уравнений, который в любом случае приведет нас к ответу!\n",
        "\n",
        "Сам алгоритм метода во всех трёх случаях работает одинаково.\n",
        "\n",
        "\n",
        "\n",
        "Преобразования расширенной матрицы (это матрица системы - матрица, составленная только из коэффициентов при неизвестных, плюс столбец свободных членов) системы линейных алгебраических уравнений в методе Гаусса:\n",
        "\n",
        "1) строки матрицы можно переставлять местами\n",
        "\n",
        "2) если в матрице появились (или есть) пропорциональные (или вообще одинаковые) строки, то следует удалить из матрицы все эти строки кроме одной\n",
        "\n",
        "3) если в матрице в ходе преобразований появилась нулевая строка, то ее также следует удалить\n",
        "\n",
        "4) строку матрицы можно умножить (разделить) на любое число,отличное от нуля\n",
        "\n",
        "5) к строке матрицы можно прибавить другую строку, умноженную на число , отличное от нуля\n",
        "\n",
        "В методе Гаусса такие элементарные преобразования не меняют решение системы уравнений\n",
        "\n",
        "Метод Гаусса состоит из двух этапов:\n",
        "\n",
        "**Прямой ход** - с помощью элементарных преобразований привести расширенную матрицу системы линейных алгебраических уравнений к «треугольному» ступенчатому виду: элементы расширенной матрицы, расположенные ниже главной диагонали, равны нулю (ход «сверху-вниз»)\n",
        "\n",
        "Для этого:\n",
        "1) Пусть мы рассматриваем первое уравнение системы линейных алгебраических уравнений и коэффициент при х1 равен k.\n",
        "Второе, третье и т.д. уравнения преобразуем следующим образом: каждое уравнение (коэффициенты при неизвестных, включая свободные члены) делим на коэффициент при неизвестном х1 , стоящий в каждом уравнении, и умножаем на k. После этого из второго уравнения (коэффициенты при неизвестных и свободные члены) вычитаем первое. Получаем при х1 во втором уравнении коэффициент 0. Из третьего преобразованного уравнения вычитаем первое уравнение, так до тех пор, пока все уравнения, кроме первого, при неизвестном х 1 не будут иметь коэффициент 0.\n",
        "\n",
        "2) Переходим к следующему уравнению. Пусть это будет второе уравнение и коэффициент при х2 равен m. Со всеми «нижестоящими» уравнениями поступаем так, как описано выше. Таким образом, «под» неизвестной х2 во всех уравнениях будут нули.\n",
        "\n",
        "3) Переходим к следующему уравнению и так до тех пора, пока не останется одна последняя неизвестная и преобразованный свободный член.\n",
        "\n",
        "**Обратный ход** метода Гаусса – получение решения системы линейных алгебраических уравнений (ход «снизу-вверх»). Из последнего «нижнего» уравнения получаем одно первое решение – неизвестную х n . Для этого решаем элементарное уравнение А*хn = В. В примере, приведенном выше, х3 = 4. Подставляем найденное значение в «верхнее» следующее уравнение и решаем его относительно следующей неизвестной. И так до тех пор, пока не найдем все неизвестные"
      ],
      "metadata": {
        "id": "evOxZU8GeE6P"
      }
    },
    {
      "cell_type": "markdown",
      "source": [
        "**01.** Solve the equations $\\mathbf{AX = B}$ by Gauss elimination, where\n",
        "\n",
        "$$\n",
        "\\mathbf{A} =\n",
        "\\begin{bmatrix}\n",
        "2& 0& −1& 0  \\\\\n",
        "0& 1& 2& 0  \\\\\n",
        "−1&2& 0& 1 \\\\\n",
        "0& 0& 1& −2\n",
        "\\end{bmatrix}\n",
        "\\ \\ \\ \\ \\ \\mathbf{B} =\n",
        "\\begin{bmatrix}\n",
        "1& 0  \\\\\n",
        "0&  0  \\\\\n",
        "0& 1  \\\\\n",
        "0& 0\\\\\n",
        "\\end{bmatrix}\n",
        "$$"
      ],
      "metadata": {
        "id": "9N3uXUu6l_sb"
      }
    },
    {
      "cell_type": "code",
      "execution_count": null,
      "metadata": {
        "id": "xIoUaauhk5zy"
      },
      "outputs": [],
      "source": [
        "%matplotlib inline\n",
        "%precision 16\n",
        "import numpy\n",
        "import matplotlib.pyplot as plt\n",
        "import sys\n",
        "sys.path.append(\"lib\")\n",
        "## module LUdecomp\n",
        "''' a = LUdecomp(a)\n",
        "    LUdecomposition: [L][U] = [a]\n",
        "\n",
        "    x = LUsolve(a,b)\n",
        "    Solution phase: solves [L][U]{x} = {b}\n",
        "'''\n",
        "import numpy as np\n",
        "\n",
        "def LUdecomp(a):\n",
        "    n = len(a)\n",
        "    for k in range(0,n-1):\n",
        "        for i in range(k+1,n):\n",
        "           if a[i,k] != 0.0:\n",
        "               lam = a [i,k]/a[k,k]\n",
        "               a[i,k+1:n] = a[i,k+1:n] - lam*a[k,k+1:n]\n",
        "               a[i,k] = lam\n",
        "    return a\n",
        "\n",
        "def LUsolve(a,b):\n",
        "    n = len(a)\n",
        "    for k in range(1,n):\n",
        "        b[k] = b[k] - np.dot(a[k,0:k],b[0:k])\n",
        "    b[n-1] = b[n-1]/a[n-1,n-1]\n",
        "    for k in range(n-2,-1,-1):\n",
        "       b[k] = (b[k] - np.dot(a[k,k+1:n],b[k+1:n]))/a[k,k]\n",
        "    return b"
      ]
    },
    {
      "cell_type": "code",
      "source": [
        "import numpy as np\n",
        "\n",
        "\n",
        "a = np.array([[ 2.0, 0.0, -1.0, 0.0], \\\n",
        "            [0.0, 1.0, 2.0, 0.0], \\\n",
        "            [ -1.0, 2.0, 0.0, 1.0], \\\n",
        "            [0.0, 0.0, 1.0, -2.0]])\n",
        "b = np.array([[ 1.0, 0.0, 0.0, 0.0], \\\n",
        "            [0.0, 0.0, 1.0, 0.0]])\n",
        "\n",
        "a = LUdecomp(a)\n",
        "det = np.prod(np.diagonal(a))\n",
        "print(\"\\nDeterminant =\",det)\n",
        "\n",
        "for i in range(len(b)):\n",
        "    x = LUsolve(a,b[i])\n",
        "    print(\"x\",i+1,\"=\",x)"
      ],
      "metadata": {
        "colab": {
          "base_uri": "https://localhost:8080/"
        },
        "id": "GX4oyHVUl1Pv",
        "outputId": "155261be-a4a3-4829-ca08-d1484f5276e5"
      },
      "execution_count": null,
      "outputs": [
        {
          "output_type": "stream",
          "name": "stdout",
          "text": [
            "\n",
            "Determinant = 16.0\n",
            "x 1 = [ 0.4375  0.25   -0.125  -0.0625]\n",
            "x 2 = [-0.125  0.5   -0.25  -0.125]\n"
          ]
        }
      ]
    },
    {
      "cell_type": "markdown",
      "source": [
        "\n",
        "\n",
        "---\n",
        "\n",
        "\n",
        "\n",
        "---\n",
        "\n"
      ],
      "metadata": {
        "id": "WVdCy4jMv_m5"
      }
    },
    {
      "cell_type": "markdown",
      "source": [
        "# ЛА итерационные методы"
      ],
      "metadata": {
        "id": "Oc59Z_gVgMpy"
      }
    },
    {
      "cell_type": "markdown",
      "source": [
        "Итеративные методы **Якоби** и **Гаусс-Зейделя** в численном анализе основаны на идее последовательных приближений. Этот итеративный метод начинается с одного или двух начальных приближений корней, с последовательности приближений x1, x2, x3, ..., xk, ..., как k → ∞, эта последовательность корней сходится к точному корню.\n",
        "\n",
        "Для системы уравнений Ax = B мы начинаем с начальной аппроксимации  x = x0, с помощью которой мы получаем последовательность вектора решений x1, x2, ..., xk, ... как k → ∞, эта последовательность сходится к решению x = A-1B.\n",
        "\n",
        "*Разница между методами Гаусса-Зейделя и Якоби* заключается в том, что метод Якоби использует значения, полученные на предыдущем шаге, а метод Гаусса-Зейделя всегда применяет последние обновленные значения во время итеративных процедур\n",
        "\n",
        "Метод Гаусса-Сейделя называют ещё методом последовательного смещения, потому что второе неизвестное определяется из первого неизвестного в текущей итерации, третье неизвестное определяется из первого и второго неизвестных и т. д."
      ],
      "metadata": {
        "id": "lljz2N8wg1KA"
      }
    },
    {
      "cell_type": "markdown",
      "source": [
        "**09.** Write a computer program to solve the following n simultaneous equations by the\n",
        "Jacobi (Gauss-Seidel) method with relaxation (the program should work with any value of n)\n",
        "\n",
        "\\begin{equation*}\n",
        "\\left(\n",
        "\\begin{array}{cccccccc}\n",
        "2 & −1&  0&  0& \\dots & 0& 0& 0& 1  \\\\\n",
        "−1&  2& −1&  0& \\dots & 0& 0& 0& 0  \\\\\n",
        "0 & −1&  2& −1& \\dots & 0& 0& 0& 0  \\\\\n",
        "\\vdots & \\vdots & \\vdots & \\vdots &  & \\vdots & \\vdots & \\vdots & \\vdots  \\\\\n",
        "0 & 0& 0& 0& \\dots &  −1& 2& −1& 0 \\\\\n",
        "0 & 0& 0& 0& \\dots &  0& −1& 2 &−1  \\\\\n",
        "1 & 0& 0& 0&  \\dots & 0& 0 &−1 &2  \\\\\n",
        "\\end{array}\n",
        "\\right)\n",
        "\\left(\n",
        "\\begin{array}{c}\n",
        "x_1 \\\\\n",
        "x_2 \\\\\n",
        "x_3 \\\\\n",
        "\\vdots \\\\\n",
        "x_{n−2} \\\\\n",
        "x_{n−1} \\\\\n",
        "x_n  \\\\\n",
        "\\end{array}\n",
        "\\right)=\n",
        "\\left(\n",
        "\\begin{array}{c}\n",
        "0 \\\\\n",
        "0 \\\\\n",
        "0 \\\\\n",
        "\\vdots \\\\\n",
        "0 \\\\\n",
        "0 \\\\\n",
        "1  \\\\\n",
        "\\end{array}\n",
        "\\right)\n",
        "\\end{equation*}\n",
        "\n",
        "Run the program with $n = 20$. The exact solution can be shown to be $x_i = −n/4 + i/2$,  \n",
        "$i = 1, 2, ... , n$"
      ],
      "metadata": {
        "id": "B4LfBbshEdWL"
      }
    },
    {
      "cell_type": "code",
      "source": [
        "import numpy as np\n",
        "import math\n",
        "\n",
        "def gaussSeidel(iterEqs,x,tol = 1.0e-9):\n",
        "    omega = 1.0\n",
        "    k = 10\n",
        "    p = 1\n",
        "    for i in range(1,501):\n",
        "        xOld = x.copy()\n",
        "        x = iterEqs(x,omega)\n",
        "        dx = math.sqrt(np.dot(x-xOld,x-xOld))\n",
        "        if dx < tol: return x,i,omega\n",
        "      # Compute relaxation factor after k+p iterations\n",
        "        if i == k: dx1 = dx\n",
        "        if i == k + p:\n",
        "            dx2 = dx\n",
        "            omega = 2.0/(1.0 + math.sqrt(1.0 - (dx2/dx1)**(1.0/p)))\n",
        "    print('Gauss-Seidel failed to converge')"
      ],
      "metadata": {
        "id": "MQzEF0F0wCe1"
      },
      "execution_count": null,
      "outputs": []
    },
    {
      "cell_type": "code",
      "source": [
        "#!/usr/bin/python\n",
        "## example\n",
        "%precision 8\n",
        "\n",
        "def iterEqs(x,omega):\n",
        "    n = len(x)\n",
        "    x[0] = omega*(x[1] - x[n-1])/2.0 + (1.0 - omega)*x[0]\n",
        "    for i in range(1,n-1):\n",
        "        x[i] = omega*(x[i-1] + x[i+1])/2.0 + (1.0 - omega)*x[i]\n",
        "    x[n-1] = omega*(1.0 - x[0] + x[n-2])/2.0 \\\n",
        "        + (1.0 - omega)*x[n-1]\n",
        "    return x\n",
        "\n",
        "n = eval(input(\"Number of equations ==> \"))\n",
        "x = np.zeros(n)\n",
        "x,numIter,omega = gaussSeidel(iterEqs,x)\n",
        "print(\"\\nNumber of iterations =\",numIter)\n",
        "print(\"\\nRelaxation factor =\",omega)\n",
        "print(\"\\nThe solution is:\\n\",x)\n",
        "#input(\"\\nPress return to exit\")"
      ],
      "metadata": {
        "colab": {
          "base_uri": "https://localhost:8080/"
        },
        "id": "MMtrq8yE_8gg",
        "outputId": "92c52b18-fb7b-4ca6-b9c2-ca0a7bf09be6"
      },
      "execution_count": null,
      "outputs": [
        {
          "output_type": "stream",
          "name": "stdout",
          "text": [
            "Number of equations ==> 20\n",
            "\n",
            "Number of iterations = 259\n",
            "\n",
            "Relaxation factor = 1.7054523107131407\n",
            "\n",
            "The solution is:\n",
            " [-4.50000000e+00 -4.00000000e+00 -3.50000000e+00 -3.00000000e+00\n",
            " -2.50000000e+00 -2.00000000e+00 -1.50000000e+00 -9.99999997e-01\n",
            " -4.99999998e-01  2.14046747e-09  5.00000002e-01  1.00000000e+00\n",
            "  1.50000000e+00  2.00000000e+00  2.50000000e+00  3.00000000e+00\n",
            "  3.50000000e+00  4.00000000e+00  4.50000000e+00  5.00000000e+00]\n"
          ]
        }
      ]
    },
    {
      "cell_type": "markdown",
      "source": [
        "\n",
        "\n",
        "---\n",
        "\n",
        "\n",
        "\n",
        "---\n",
        "\n"
      ],
      "metadata": {
        "id": "_64mALKVEgSs"
      }
    },
    {
      "cell_type": "markdown",
      "source": [
        "# ЛА собственные векторы и собственные значения"
      ],
      "metadata": {
        "id": "kdL-zYFOjI6A"
      }
    },
    {
      "cell_type": "markdown",
      "source": [
        "**13.** Use the Jacobi method to determine the eigenvalues and eigenvectors of\n",
        "\n",
        " $$\n",
        "\\mathbf{A} =\n",
        "\\begin{bmatrix}\n",
        "4&-1&0&1\\\\\n",
        "-1&6&-2&0\\\\\n",
        "0&-2&3&2\\\\\n",
        "1&0&2&4\n",
        "\\end{bmatrix}\n",
        "$$"
      ],
      "metadata": {
        "id": "knJeTzdTHprr"
      }
    },
    {
      "cell_type": "markdown",
      "source": [
        "Необходимость итеративного метода вычисления собственных значений:\n",
        "\n",
        "В общем случае любой метод вычисления собственных значений обязательно включает в себя бесконечное число шагов. Это связано с тем, что нахождение собственных значений матрицы n × n эквивалентно нахождению корней ее характеристического многочлена степени n, а вычисление коэффициентов характеристического многочлена требует вычисления определителя, однако проблема нахождения корней многочлена может быть очень плохо обусловлена и для n > 4 таких корней не может быть найдено (по теореме Абеля), в общем случае, за конечное число шагов. Другими словами, мы должны рассмотреть итерационные методы, создающие на шаге k аппроксимированный собственный вектор xk, связанный с аппроксимированным собственным значением λk, которые сходятся к желаемому собственному вектору x и собственному значению λ по мере увеличения числа итераций."
      ],
      "metadata": {
        "id": "oGtsdQnZiCr1"
      }
    },
    {
      "cell_type": "code",
      "source": [
        "## module inversePower\n",
        "''' lam,x = inversePower(a,s,tol=1.0e-6).\n",
        "    Inverse power method for solving the eigenvalue problem\n",
        "    [a]{x} = lam{x}. Returns 'lam' closest to 's' and the\n",
        "    corresponding eigenvector {x}.\n",
        "'''\n",
        "import numpy as np\n",
        "import math\n",
        "from random import random\n",
        "def inversePower(a,s,tol=1.0e-6):\n",
        "    n = len(a)\n",
        "    aStar = a - np.identity(n)*s  # Form [a*] = [a] - s[I]\n",
        "    aStar = LUdecomp(aStar)       # Decompose [a*]\n",
        "    x = np.zeros(n)\n",
        "    for i in range(n):            # Seed [x] with random numbers\n",
        "        x[i] = random()\n",
        "    xMag = math.sqrt(np.dot(x,x)) # Normalize [x]\n",
        "    x =x/xMag\n",
        "    for i in range(50):           # Begin iterations\n",
        "        xOld = x.copy()           # Save current [x]\n",
        "        x = LUsolve(aStar,x)      # Solve [a*][x] = [xOld]\n",
        "        xMag = math.sqrt(np.dot(x,x)) # Normalize [x]\n",
        "        x = x/xMag\n",
        "        if np.dot(xOld,x) < 0.0:  # Detect change in sign of [x]\n",
        "            sign = -1.0\n",
        "            x = -x\n",
        "        else: sign = 1.0\n",
        "        if math.sqrt(np.dot(xOld - x,xOld - x)) < tol:\n",
        "            return s + sign/xMag,x\n",
        "    print('Inverse power method did not converge')\n",
        "\n"
      ],
      "metadata": {
        "id": "i7FS4-P0_Jdo"
      },
      "execution_count": null,
      "outputs": []
    },
    {
      "cell_type": "code",
      "source": [
        "## module jacobi\n",
        "''' lam,x = jacobi(a,tol = 1.0e-8).\n",
        "    Solution of std. eigenvalue problem [a]{x} = lam{x}\n",
        "    by Jacobi's method. Returns eigenvalues in vector {lam}\n",
        "    and the eigenvectors as columns of matrix [x].\n",
        "'''\n",
        "import numpy as np\n",
        "import math\n",
        "\n",
        "def jacobi(a,tol = 1.0e-8): # Jacobi method\n",
        "\n",
        "    def threshold(a):\n",
        "        sum = 0.0\n",
        "        for i in range(n-1):\n",
        "            for j in range (i+1,n):\n",
        "                sum = sum + abs(a[i,j])\n",
        "        return 0.5*sum/n/(n-1)\n",
        "\n",
        "    def rotate(a,p,k,l): # Rotate to make a[k,l] = 0\n",
        "        aDiff = a[l,l] - a[k,k]\n",
        "        if abs(a[k,l]) < abs(aDiff)*1.0e-36: t = a[k,l]/aDiff\n",
        "        else:\n",
        "            phi = aDiff/(2.0*a[k,l])\n",
        "            t = 1.0/(abs(phi) + math.sqrt(phi**2 + 1.0))\n",
        "            if phi < 0.0: t = -t\n",
        "        c = 1.0/math.sqrt(t**2 + 1.0); s = t*c\n",
        "        tau = s/(1.0 + c)\n",
        "        temp = a[k,l]\n",
        "        a[k,l] = 0.0\n",
        "        a[k,k] = a[k,k] - t*temp\n",
        "        a[l,l] = a[l,l] + t*temp\n",
        "        for i in range(k):      # Case of i < k\n",
        "            temp = a[i,k]\n",
        "            a[i,k] = temp - s*(a[i,l] + tau*temp)\n",
        "            a[i,l] = a[i,l] + s*(temp - tau*a[i,l])\n",
        "        for i in range(k+1,l):  # Case of k < i < l\n",
        "            temp = a[k,i]\n",
        "            a[k,i] = temp - s*(a[i,l] + tau*a[k,i])\n",
        "            a[i,l] = a[i,l] + s*(temp - tau*a[i,l])\n",
        "        for i in range(l+1,n):  # Case of i > l\n",
        "            temp = a[k,i]\n",
        "            a[k,i] = temp - s*(a[l,i] + tau*temp)\n",
        "            a[l,i] = a[l,i] + s*(temp - tau*a[l,i])\n",
        "        for i in range(n):      # Update transformation matrix\n",
        "            temp = p[i,k]\n",
        "            p[i,k] = temp - s*(p[i,l] + tau*p[i,k])\n",
        "            p[i,l] = p[i,l] + s*(temp - tau*p[i,l])\n",
        "\n",
        "    n = len(a)\n",
        "    p = np.identity(n,float)\n",
        "    for k in range(20):\n",
        "        mu = threshold(a)       # Compute new threshold\n",
        "        for i in range(n-1):    # Sweep through matrix\n",
        "            for j in range(i+1,n):\n",
        "                if abs(a[i,j]) >= mu:\n",
        "                    rotate(a,p,i,j)\n",
        "        if mu <= tol: return np.diagonal(a),p\n",
        "    print('Jacobi method did not converge')\n",
        ""
      ],
      "metadata": {
        "id": "mOHm2WesHx3H"
      },
      "execution_count": null,
      "outputs": []
    },
    {
      "cell_type": "code",
      "source": [
        "## module jacobi_mdf\n",
        "''' lam,x = jacobi_mdf(a,tol = 1.0e-9).\n",
        "    Solution of std. eigenvalue problem [a]{x} = lam{x}\n",
        "    by Jacobi's method. Returns eigenvalues in vector {lam}\n",
        "    and the eigenvectors as columns of matrix [x].\n",
        "'''\n",
        "from numpy import array,identity,diagonal,linalg as LA, dot\n",
        "from math import sqrt\n",
        "\n",
        "\n",
        "def jacobi_mdf(a,tol = 1.0e-9): # Jacobi method\n",
        "\n",
        "    #a = copy.deepcopy(b)\n",
        "\n",
        "    def maxElem(a): # Find largest off-diag. element a[k,l]\n",
        "        n = len(a)\n",
        "        aMax = 0.0\n",
        "        for i in range(n-1):\n",
        "            for j in range(i+1,n):\n",
        "                if abs(a[i,j]) >= aMax:\n",
        "                    aMax = abs(a[i,j])\n",
        "                    k = i; l = j\n",
        "        return aMax,k,l\n",
        "\n",
        "    def rotate(a,P,k,l): # Rotate to make a[k,l] = 0\n",
        "        n = len(a)\n",
        "        p = identity(n)*1.0     # Initialize transformation matrix\n",
        "        aDiff = a[l,l] - a[k,k]\n",
        "        if abs(a[k,l]) < abs(aDiff)*1.0e-36: t = a[k,l]/aDiff\n",
        "        else:\n",
        "            phi = aDiff/(2.0*a[k,l])\n",
        "            t = (abs(phi) + sqrt(phi**2 + 1.0))\n",
        "            if phi < 0.0: t = -t\n",
        "        c = 1./sqrt(t**2 + 1.0); s = t*c\n",
        "        p[k,k] = c\n",
        "        p[k,l] = -s\n",
        "        p[l,k] = s\n",
        "        p[l,l] = c\n",
        "        a = dot(p.T,dot(a, p))\n",
        "        P = dot(P, p)\n",
        "        return a,P\n",
        "\n",
        "    n = len(a)\n",
        "    maxRot = 5*(n**2)       # Set limit on number of rotations\n",
        "    p = identity(n)*1.0     # Initialize transformation matrix\n",
        "    for i in range(maxRot): # Jacobi rotation loop\n",
        "        aMax,k,l = maxElem(a)\n",
        "        if aMax < tol: return diagonal(a),p\n",
        "        a,p=rotate(a,p,k,l)\n",
        "    print ('Jacobi method did not converge')\n",
        "\n",
        "\n"
      ],
      "metadata": {
        "id": "vHFb3NixPIF5"
      },
      "execution_count": null,
      "outputs": []
    },
    {
      "cell_type": "code",
      "source": [
        "## module sortJacobi\n",
        "''' sortJacobi(lam,x).\n",
        "    Sorts the eigenvalues {lam} and eigenvectors [x]\n",
        "    in order of ascending eigenvalues.\n",
        "'''\n",
        "## module swap\n",
        "''' swapRows(v,i,j).\n",
        "    Swaps rows i and j of a vector or matrix [v].\n",
        "\n",
        "    swapCols(v,i,j).\n",
        "    Swaps columns of matrix [v].\n",
        "'''\n",
        "def swapRows(v,i,j):\n",
        "    if len(v.shape) == 1:\n",
        "        v[i],v[j] = v[j],v[i]\n",
        "    else:\n",
        "        v[[i,j],:] = v[[j,i],:]\n",
        "\n",
        "def swapCols(v,i,j):\n",
        "    v[:,[i,j]] = v[:,[j,i]]\n",
        "\n",
        "def sortJacobi(lam,x):\n",
        "    n = len(lam)\n",
        "    for i in range(n-1):\n",
        "        index = i\n",
        "        val = lam[i]\n",
        "        for j in range(i+1,n):\n",
        "            if lam[j] > val:    # if lam[j] < val: for accending order\n",
        "                index = j\n",
        "                val = lam[j]\n",
        "        if index != i:\n",
        "            swapRows(lam,i,index)\n",
        "            swapCols(x,i,index)\n",
        "    return lam,x\n"
      ],
      "metadata": {
        "id": "45568HHORLkf"
      },
      "execution_count": null,
      "outputs": []
    },
    {
      "cell_type": "code",
      "source": [
        "import numpy as np\n",
        "%precision 9\n",
        "m = 4\n",
        "\n",
        "A = np.array([[4, -1, 0, 1], [-1, 6, -2, 0], [0, -2, 3, 2], [1, 0, 2, 4]], float)\n",
        "v, w = np.linalg.eig(A)\n",
        "\n",
        "\n",
        "print()\n",
        "print(\"\\n True eigenvalues: \")\n",
        "print(v)\n",
        "print()\n",
        "print(\"\\n True eigenvectors: \")\n",
        "print(w)\n",
        "print()\n",
        "print(\"\\n Computed eigenvalues: \")\n",
        "\n",
        "lam,x = jacobi(A,tol = 1.0e-12)\n",
        "print(lam)\n",
        "print(\"\\n Computed eigenvectors: \")\n",
        "print(x)\n",
        "print(\"\\n Ordered result: \")\n",
        "lam.setflags(write=1)\n",
        "x.setflags(write=1)\n",
        "lam,x = sortJacobi(lam,x)\n",
        "print(lam)\n",
        "print()\n",
        "print(x)\n"
      ],
      "metadata": {
        "colab": {
          "base_uri": "https://localhost:8080/"
        },
        "id": "GiNmkhi7LSBk",
        "outputId": "f52b63fc-ae67-45bb-a445-9d73ae0a3b9c"
      },
      "execution_count": null,
      "outputs": [
        {
          "output_type": "stream",
          "name": "stdout",
          "text": [
            "\n",
            "\n",
            " True eigenvalues: \n",
            "[0.693852066 7.647434568 3.805593731 4.853119636]\n",
            "\n",
            "\n",
            " True eigenvectors: \n",
            "[[ 0.258361268  0.300627591 -0.88907849   0.228936551]\n",
            " [ 0.327908769 -0.755350681 -0.014066258  0.567206601]\n",
            " [ 0.740785585  0.471881616  0.429105703  0.210790781]\n",
            " [-0.526271804  0.341168786  0.158776175  0.762516868]]\n",
            "\n",
            "\n",
            " Computed eigenvalues: \n",
            "[3.805593731 7.647434568 0.693852066 4.853119636]\n",
            "\n",
            " Computed eigenvectors: \n",
            "[[ 0.88907849  -0.300627591  0.258361268  0.228936551]\n",
            " [ 0.014066258  0.755350681  0.327908769  0.567206601]\n",
            " [-0.429105703 -0.471881616  0.740785585  0.210790781]\n",
            " [-0.158776175 -0.341168786 -0.526271804  0.762516868]]\n",
            "\n",
            " Ordered result: \n",
            "[7.647434568 4.853119636 3.805593731 0.693852066]\n",
            "\n",
            "[[-0.300627591  0.228936551  0.88907849   0.258361268]\n",
            " [ 0.755350681  0.567206601  0.014066258  0.327908769]\n",
            " [-0.471881616  0.210790781 -0.429105703  0.740785585]\n",
            " [-0.341168786  0.762516868 -0.158776175 -0.526271804]]\n"
          ]
        }
      ]
    },
    {
      "cell_type": "code",
      "source": [
        "%precision 8\n",
        "#!/usr/bin/python\n",
        "## example\n",
        "\n",
        "import numpy as np\n",
        "\n",
        "s = 5.0\n",
        "a = np.array([[4, -1, 0, 1], [-1, 6, -2, 0], [0, -2, 3, 2], [1, 0, 2, 4]], float)\n",
        "lam,x = inversePower(a,s)\n",
        "print(\"Eigenvalue =\",lam)\n",
        "print(\"\\nEigenvector:\\n\",x)\n",
        "#input(\"\\nPrint press return to exit\")"
      ],
      "metadata": {
        "colab": {
          "base_uri": "https://localhost:8080/"
        },
        "id": "i6COeXTVMLVd",
        "outputId": "7900ad67-b578-4783-a3ad-55629eefed1b"
      },
      "execution_count": null,
      "outputs": [
        {
          "output_type": "stream",
          "name": "stdout",
          "text": [
            "Eigenvalue = 4.853119635808522\n",
            "\n",
            "Eigenvector:\n",
            " [0.22893651 0.5672066  0.2107908  0.76251688]\n"
          ]
        }
      ]
    },
    {
      "cell_type": "code",
      "source": [],
      "metadata": {
        "id": "4JLCtX3pOpaM"
      },
      "execution_count": null,
      "outputs": []
    }
  ]
}